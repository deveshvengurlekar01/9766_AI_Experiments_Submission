{
 "cells": [
  {
   "cell_type": "code",
   "execution_count": 1,
   "id": "a9545ed9",
   "metadata": {},
   "outputs": [
    {
     "name": "stdout",
     "output_type": "stream",
     "text": [
      "Dietary needs: balanced_diet\n",
      "['Eat a variety of foods from all food groups, including fruits, vegetables, grains, protein-rich foods, and healthy fats.']\n",
      "\n",
      "Dietary needs: high_protein, low_carb\n",
      "['Include plenty of protein-rich foods such as lean meats, fish, eggs, dairy, legumes, and nuts.', 'Limit carbohydrate intake and focus on consuming non-starchy vegetables, lean proteins, and healthy fats.']\n",
      "\n",
      "Dietary needs: low_protein\n",
      "[\"Sorry, I'm not sure what to advise for 'low_protein' dietary need.\"]\n"
     ]
    }
   ],
   "source": [
    "# Devesh Vengurlekar\n",
    "#Roll No: 9766\n",
    "# TE Comps A\n",
    "\n",
    "class ExpertSystem:\n",
    "    def __init__(self):\n",
    "        self.rules = {\n",
    "            \"low_calorie\": \"Focus on consuming fruits, vegetables, lean proteins, and whole grains. Limit added sugars and fats.\",\n",
    "            \"high_protein\": \"Include plenty of protein-rich foods such as lean meats, fish, eggs, dairy, legumes, and nuts.\",\n",
    "            \"low_carb\": \"Limit carbohydrate intake and focus on consuming non-starchy vegetables, lean proteins, and healthy fats.\",\n",
    "            \"balanced_diet\": \"Eat a variety of foods from all food groups, including fruits, vegetables, grains, protein-rich foods, and healthy fats.\"\n",
    "        }\n",
    "    \n",
    "    def consult(self, dietary_needs):\n",
    "        recommendations = []\n",
    "        for need in dietary_needs:\n",
    "            if need in self.rules:\n",
    "                recommendations.append(self.rules[need])\n",
    "            else:\n",
    "                recommendations.append(\"Sorry, I'm not sure what to advise for '{}' dietary need.\".format(need))\n",
    "        return recommendations\n",
    "\n",
    "def main():\n",
    "    expert_system = ExpertSystem()\n",
    "    # Example consultations\n",
    "    print(\"Dietary needs: balanced_diet\")\n",
    "    print(expert_system.consult([\"balanced_diet\"]))\n",
    "    print(\"\\nDietary needs: high_protein, low_carb\")\n",
    "    print(expert_system.consult([\"high_protein\", \"low_carb\"]))\n",
    "    print(\"\\nDietary needs: low_protein\")\n",
    "    print(expert_system.consult([\"low_protein\"]))\n",
    "\n",
    "if __name__ == \"__main__\":\n",
    "    main()\n"
   ]
  },
  {
   "cell_type": "code",
   "execution_count": null,
   "id": "58a7e83c",
   "metadata": {},
   "outputs": [],
   "source": []
  }
 ],
 "metadata": {
  "kernelspec": {
   "display_name": "Python 3 (ipykernel)",
   "language": "python",
   "name": "python3"
  },
  "language_info": {
   "codemirror_mode": {
    "name": "ipython",
    "version": 3
   },
   "file_extension": ".py",
   "mimetype": "text/x-python",
   "name": "python",
   "nbconvert_exporter": "python",
   "pygments_lexer": "ipython3",
   "version": "3.9.13"
  }
 },
 "nbformat": 4,
 "nbformat_minor": 5
}
