{
 "cells": [
  {
   "cell_type": "code",
   "execution_count": 1,
   "id": "55f79283",
   "metadata": {},
   "outputs": [
    {
     "name": "stdout",
     "output_type": "stream",
     "text": [
      "Steps to measure 2 gallons:\n",
      "Step 1: Jug 4: 0 gallons, Jug 3: 0 gallons\n",
      "Step 2: Jug 4: 4 gallons, Jug 3: 0 gallons\n",
      "Step 3: Jug 4: 1 gallons, Jug 3: 3 gallons\n",
      "Step 4: Jug 4: 1 gallons, Jug 3: 0 gallons\n",
      "Step 5: Jug 4: 0 gallons, Jug 3: 1 gallons\n",
      "Step 6: Jug 4: 4 gallons, Jug 3: 1 gallons\n",
      "Step 7: Jug 4: 2 gallons, Jug 3: 3 gallons\n"
     ]
    }
   ],
   "source": [
    "from collections import deque\n",
    "\n",
    "def pour_water(state, action):\n",
    "    x, y = state\n",
    "    if action == 'fill_4':\n",
    "        return (4, y)\n",
    "    elif action == 'fill_3':\n",
    "        return (x, 3)\n",
    "    elif action == 'empty_4':\n",
    "        return (0, y)\n",
    "    elif action == 'empty_3':\n",
    "        return (x, 0)\n",
    "    elif action == 'pour_4_to_3':\n",
    "        amount = min(x, 3 - y)\n",
    "        return (x - amount, y + amount)\n",
    "    elif action == 'pour_3_to_4':\n",
    "        amount = min(y, 4 - x)\n",
    "        return (x + amount, y - amount)\n",
    "    else:\n",
    "        return state\n",
    "\n",
    "def bfs(initial_state):\n",
    "    visited = set()\n",
    "    queue = deque([([initial_state], initial_state)])\n",
    "    while queue:\n",
    "        path, state = queue.popleft()\n",
    "        if state[0] == 2:\n",
    "            return path\n",
    "        visited.add(state)\n",
    "        for action in ['fill_4', 'fill_3', 'empty_4', 'empty_3', 'pour_4_to_3', 'pour_3_to_4']:\n",
    "            new_state = pour_water(state, action)\n",
    "            if new_state not in visited:\n",
    "                queue.append((path + [new_state], new_state))\n",
    "    return None\n",
    "\n",
    "def print_steps(path):\n",
    "    for i, state in enumerate(path):\n",
    "        jug_4, jug_3 = state\n",
    "        print(f\"Step {i+1}: Jug 4: {jug_4} gallons, Jug 3: {jug_3} gallons\")\n",
    "\n",
    "initial_state = (0, 0)\n",
    "path = bfs(initial_state)\n",
    "if path:\n",
    "    print(\"Steps to measure 2 gallons:\")\n",
    "    print_steps(path)\n",
    "else:\n",
    "    print(\"No solution found.\")"
   ]
  },
  {
   "cell_type": "code",
   "execution_count": null,
   "id": "34cd65c5",
   "metadata": {},
   "outputs": [],
   "source": []
  }
 ],
 "metadata": {
  "kernelspec": {
   "display_name": "Python 3 (ipykernel)",
   "language": "python",
   "name": "python3"
  },
  "language_info": {
   "codemirror_mode": {
    "name": "ipython",
    "version": 3
   },
   "file_extension": ".py",
   "mimetype": "text/x-python",
   "name": "python",
   "nbconvert_exporter": "python",
   "pygments_lexer": "ipython3",
   "version": "3.9.13"
  }
 },
 "nbformat": 4,
 "nbformat_minor": 5
}
