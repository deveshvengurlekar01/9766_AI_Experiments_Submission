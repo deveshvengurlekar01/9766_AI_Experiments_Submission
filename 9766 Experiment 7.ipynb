{
 "cells": [
  {
   "cell_type": "code",
   "execution_count": 1,
   "id": "51c85d06",
   "metadata": {},
   "outputs": [
    {
     "name": "stdout",
     "output_type": "stream",
     "text": [
      "Initial State: ['A', 'B', 'C', 'D']\n",
      "Final State: ['D', 'A', 'B', 'C']\n"
     ]
    }
   ],
   "source": [
    "# Devesh Vengurlekar\n",
    "#Roll No: 9766\n",
    "# TE Comps A\n",
    "\n",
    "\n",
    "import random\n",
    "\n",
    "# Define the initial state of the block world\n",
    "initial_state = ['A', 'B', 'C', 'D']\n",
    "\n",
    "# Define the goal state of the block world\n",
    "goal_state = ['D', 'A', 'B', 'C']\n",
    "\n",
    "# Define a function to calculate the heuristic (number of misplaced blocks)\n",
    "def heuristic(state):\n",
    "    return sum([1 for i, j in zip(state, goal_state) if i != j])\n",
    "\n",
    "# Define a function to generate neighboring states (move a block to the top)\n",
    "def generate_neighbors(state):\n",
    "    neighbors = []\n",
    "    for i in range(len(state)):\n",
    "        for j in range(i+1, len(state)):\n",
    "            neighbor = state[:i] + [state[j]] + state[i:j] + state[j+1:]\n",
    "            neighbors.append(neighbor)\n",
    "    return neighbors\n",
    "\n",
    "# Define the Hill Climbing algorithm\n",
    "def hill_climbing(initial_state, goal_state):\n",
    "    current_state = initial_state\n",
    "    while True:\n",
    "        current_heuristic = heuristic(current_state)\n",
    "        neighbors = generate_neighbors(current_state)\n",
    "        best_neighbor = min(neighbors, key=lambda neighbor: heuristic(neighbor))\n",
    "        if heuristic(best_neighbor) >= current_heuristic:\n",
    "            return current_state\n",
    "        current_state = best_neighbor\n",
    "\n",
    "# Run the Hill Climbing algorithm\n",
    "final_state = hill_climbing(initial_state, goal_state)\n",
    "\n",
    "# Print the result\n",
    "print(\"Initial State:\", initial_state)\n",
    "print(\"Final State:\", final_state)\n"
   ]
  },
  {
   "cell_type": "code",
   "execution_count": null,
   "id": "5a94daef",
   "metadata": {},
   "outputs": [],
   "source": []
  }
 ],
 "metadata": {
  "kernelspec": {
   "display_name": "Python 3 (ipykernel)",
   "language": "python",
   "name": "python3"
  },
  "language_info": {
   "codemirror_mode": {
    "name": "ipython",
    "version": 3
   },
   "file_extension": ".py",
   "mimetype": "text/x-python",
   "name": "python",
   "nbconvert_exporter": "python",
   "pygments_lexer": "ipython3",
   "version": "3.9.13"
  }
 },
 "nbformat": 4,
 "nbformat_minor": 5
}
