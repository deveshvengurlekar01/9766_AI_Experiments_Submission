{
 "cells": [
  {
   "cell_type": "code",
   "execution_count": 1,
   "id": "bfed2a90",
   "metadata": {},
   "outputs": [
    {
     "name": "stdout",
     "output_type": "stream",
     "text": [
      "Result: (4, 4)\n"
     ]
    }
   ],
   "source": [
    "from queue import PriorityQueue\n",
    "\n",
    "class Node:\n",
    "    def __init__(self, state, g_value, f_value):\n",
    "        self.state = state\n",
    "        self.g_value = g_value  # Actual cost from the start node\n",
    "        self.f_value = f_value  # Optimistic value based on the heuristic\n",
    "\n",
    "    def __lt__(self, other):\n",
    "        # Comparing nodes based on their optimistic f_value\n",
    "        return self.f_value < other.f_value\n",
    "\n",
    "def ao_star_search(initial_state, goal_test, successors, heuristic):\n",
    "    frontier = PriorityQueue()\n",
    "    explored = set()\n",
    "\n",
    "    # Initialize the start node\n",
    "    start_node = Node(initial_state, 0, heuristic(initial_state))\n",
    "    frontier.put(start_node)\n",
    "\n",
    "    while not frontier.empty():\n",
    "        current_node = frontier.get()\n",
    "        if goal_test(current_node.state):\n",
    "            return current_node.state\n",
    "\n",
    "        explored.add(current_node.state)\n",
    "\n",
    "        for successor in successors(current_node.state):\n",
    "            successor_g_value = current_node.g_value + 1  # Assuming uniform cost\n",
    "            successor_f_value = successor_g_value + heuristic(successor)\n",
    "\n",
    "            # If the successor state is not in the explored set, add it to the frontier\n",
    "            if successor not in explored:\n",
    "                frontier.put(Node(successor, successor_g_value, successor_f_value))\n",
    "\n",
    "    return None\n",
    "\n",
    "# Example usage:\n",
    "def goal_test(state):\n",
    "    return state == (4, 4)  # Example goal state\n",
    "\n",
    "def successors(state):\n",
    "    x, y = state\n",
    "    return [(x+1, y), (x-1, y), (x, y+1), (x, y-1)]  # Example successors\n",
    "\n",
    "def heuristic(state):\n",
    "    # Manhattan distance heuristic\n",
    "    x, y = state\n",
    "    return abs(3 - x) + abs(3 - y)  # Assuming the goal state is (3, 3)\n",
    "\n",
    "initial_state = (0, 0)  # Example initial state\n",
    "result = ao_star_search(initial_state, goal_test, successors, heuristic)\n",
    "print(\"Result:\", result)\n"
   ]
  },
  {
   "cell_type": "code",
   "execution_count": null,
   "id": "fec03270",
   "metadata": {},
   "outputs": [],
   "source": []
  }
 ],
 "metadata": {
  "kernelspec": {
   "display_name": "Python 3 (ipykernel)",
   "language": "python",
   "name": "python3"
  },
  "language_info": {
   "codemirror_mode": {
    "name": "ipython",
    "version": 3
   },
   "file_extension": ".py",
   "mimetype": "text/x-python",
   "name": "python",
   "nbconvert_exporter": "python",
   "pygments_lexer": "ipython3",
   "version": "3.9.13"
  }
 },
 "nbformat": 4,
 "nbformat_minor": 5
}
